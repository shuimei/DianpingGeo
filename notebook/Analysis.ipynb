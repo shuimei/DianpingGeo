{
 "cells": [
  {
   "cell_type": "code",
   "execution_count": 4,
   "metadata": {
    "collapsed": false,
    "scrolled": true
   },
   "outputs": [
    {
     "data": {
      "text/html": [
       "<div>\n",
       "<table border=\"1\" class=\"dataframe\">\n",
       "  <thead>\n",
       "    <tr style=\"text-align: right;\">\n",
       "      <th></th>\n",
       "      <th>id</th>\n",
       "      <th>location</th>\n",
       "      <th>region</th>\n",
       "      <th>category</th>\n",
       "      <th>subcategory</th>\n",
       "      <th>address</th>\n",
       "      <th>name</th>\n",
       "      <th>lng</th>\n",
       "      <th>lat</th>\n",
       "      <th>confidence</th>\n",
       "    </tr>\n",
       "  </thead>\n",
       "  <tbody>\n",
       "    <tr>\n",
       "      <th>0</th>\n",
       "      <td>1</td>\n",
       "      <td>上海</td>\n",
       "      <td>卢湾区</td>\n",
       "      <td>丽人</td>\n",
       "      <td>美发</td>\n",
       "      <td>淮海中路939号巴黎春天B2  103</td>\n",
       "      <td>PETER 造型(淮海中路巴黎春天店)</td>\n",
       "      <td>121.429</td>\n",
       "      <td>31.223</td>\n",
       "      <td>80</td>\n",
       "    </tr>\n",
       "    <tr>\n",
       "      <th>1</th>\n",
       "      <td>2</td>\n",
       "      <td>上海</td>\n",
       "      <td>卢湾区</td>\n",
       "      <td>丽人</td>\n",
       "      <td>美发</td>\n",
       "      <td>淮海中路138号，上海广场4楼 428室</td>\n",
       "      <td>Hair Vision(势崛私属造型)</td>\n",
       "      <td>121.484</td>\n",
       "      <td>31.2309</td>\n",
       "      <td>80</td>\n",
       "    </tr>\n",
       "    <tr>\n",
       "      <th>2</th>\n",
       "      <td>3</td>\n",
       "      <td>上海</td>\n",
       "      <td>卢湾区</td>\n",
       "      <td>丽人</td>\n",
       "      <td>美发</td>\n",
       "      <td>打浦路1号金玉兰广场商务楼2007室</td>\n",
       "      <td>蕾娜发型沙龙</td>\n",
       "      <td>121.477</td>\n",
       "      <td>31.2106</td>\n",
       "      <td>80</td>\n",
       "    </tr>\n",
       "    <tr>\n",
       "      <th>3</th>\n",
       "      <td>4</td>\n",
       "      <td>上海</td>\n",
       "      <td>卢湾区</td>\n",
       "      <td>丽人</td>\n",
       "      <td>美发</td>\n",
       "      <td>瑞金一路144号2楼</td>\n",
       "      <td>ROUGE SALON(如丝发型艺术沙龙)</td>\n",
       "      <td>121.47</td>\n",
       "      <td>31.2254</td>\n",
       "      <td>80</td>\n",
       "    </tr>\n",
       "    <tr>\n",
       "      <th>4</th>\n",
       "      <td>5</td>\n",
       "      <td>上海</td>\n",
       "      <td>卢湾区</td>\n",
       "      <td>丽人</td>\n",
       "      <td>美发</td>\n",
       "      <td>马当路222弄华府天地B1-104</td>\n",
       "      <td>3AM HAIR SALON(上海马当路店)</td>\n",
       "      <td>121.481</td>\n",
       "      <td>31.2249</td>\n",
       "      <td>70</td>\n",
       "    </tr>\n",
       "  </tbody>\n",
       "</table>\n",
       "</div>"
      ],
      "text/plain": [
       "   id location region category subcategory               address  \\\n",
       "0   1       上海    卢湾区       丽人          美发   淮海中路939号巴黎春天B2  103   \n",
       "1   2       上海    卢湾区       丽人          美发  淮海中路138号，上海广场4楼 428室   \n",
       "2   3       上海    卢湾区       丽人          美发    打浦路1号金玉兰广场商务楼2007室   \n",
       "3   4       上海    卢湾区       丽人          美发            瑞金一路144号2楼   \n",
       "4   5       上海    卢湾区       丽人          美发     马当路222弄华府天地B1-104   \n",
       "\n",
       "                     name      lng      lat confidence  \n",
       "0     PETER 造型(淮海中路巴黎春天店)  121.429   31.223         80  \n",
       "1     Hair Vision(势崛私属造型)  121.484  31.2309         80  \n",
       "2                  蕾娜发型沙龙  121.477  31.2106         80  \n",
       "3   ROUGE SALON(如丝发型艺术沙龙)   121.47  31.2254         80  \n",
       "4  3AM HAIR SALON(上海马当路店)  121.481  31.2249         70  "
      ]
     },
     "execution_count": 4,
     "metadata": {},
     "output_type": "execute_result"
    }
   ],
   "source": [
    "import pandas as pd\n",
    "import sqlite3\n",
    "store = pd.read_sql('select * from store;', sqlite3.connect('../store.db'))\n",
    "store.head()\n",
    "# store.describe()"
   ]
  },
  {
   "cell_type": "code",
   "execution_count": 37,
   "metadata": {
    "collapsed": false,
    "scrolled": true
   },
   "outputs": [
    {
     "data": {
      "text/plain": [
       "u'8227'"
      ]
     },
     "execution_count": 37,
     "metadata": {},
     "output_type": "execute_result"
    }
   ],
   "source": [
    "import json\n",
    "regions = store.groupby(['region']).count()\n",
    "region = store['region'].unique()\n",
    "counts = list(regions['id'])\n",
    "c = {}\n",
    "for i,j in enumerate(region):\n",
    "    c[j] = str(counts[i])\n",
    "c = json.dumps(c)\n",
    "\n",
    "\n",
    "\n"
   ]
  }
 ],
 "metadata": {
  "kernelspec": {
   "display_name": "Python 2",
   "language": "python",
   "name": "python2"
  },
  "language_info": {
   "codemirror_mode": {
    "name": "ipython",
    "version": 2
   },
   "file_extension": ".py",
   "mimetype": "text/x-python",
   "name": "python",
   "nbconvert_exporter": "python",
   "pygments_lexer": "ipython2",
   "version": "2.7.10"
  }
 },
 "nbformat": 4,
 "nbformat_minor": 0
}
